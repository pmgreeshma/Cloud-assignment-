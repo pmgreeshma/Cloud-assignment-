{
 "cells": [
  {
   "cell_type": "markdown",
   "id": "c2187f7f",
   "metadata": {},
   "source": [
    "## Que 1. How many fatal log entries in the month of December resulted from an ”invalid or missing program image”?"
   ]
  },
  {
   "cell_type": "markdown",
   "id": "bf9de23c",
   "metadata": {},
   "source": [
    "basic steps followed to answer the questions were reffered from\n",
    "https://spark.apache.org/docs/latest/api/python/getting_started/quickstart_df.html"
   ]
  },
  {
   "cell_type": "code",
   "execution_count": 1,
   "id": "4774b506",
   "metadata": {},
   "outputs": [
    {
     "name": "stderr",
     "output_type": "stream",
     "text": [
      "23/08/07 18:24:25 WARN SparkSession: Using an existing Spark session; only runtime SQL configurations will take effect.\n"
     ]
    }
   ],
   "source": [
    "# importing necessary libraries and datatypes\n",
    "\n",
    "from pyspark.sql import SparkSession\n",
    "from pyspark.sql.types import StructType, StructField, StringType, DateType, TimestampType, IntegerType\n",
    "from pyspark.sql.functions import *\n",
    "import time\n",
    "import matplotlib.pyplot as plt\n",
    "import pandas as pd\n",
    "\n",
    "#setting up a spark session\n",
    "\n",
    "session = SparkSession.builder.appName(\"BGLlog\").getOrCreate()"
   ]
  },
  {
   "cell_type": "code",
   "execution_count": 2,
   "id": "ce70706d",
   "metadata": {},
   "outputs": [],
   "source": [
    "# start time of the program\n",
    "start_program_time= time.time()"
   ]
  },
  {
   "cell_type": "markdown",
   "id": "f2de9197",
   "metadata": {},
   "source": [
    "# Schema Design"
   ]
  },
  {
   "cell_type": "code",
   "execution_count": 3,
   "id": "5c5a3274",
   "metadata": {},
   "outputs": [],
   "source": [
    "# defined the schema for the BGL log data\n",
    "\n",
    "BGL_schema = StructType([\n",
    "\n",
    "    StructField(\"AlertFlag\", StringType(),True),\n",
    "    \n",
    "    # first Timestamp is assigned to IntegerType datatype and later to TimestampType datatype, \n",
    "    # as initializing Timestamp to \"TimestampType\" datatype in the beginning was not possible\n",
    "    StructField(\"Timestamp\", IntegerType(),True), \n",
    "\n",
    "    StructField(\"Date\", StringType(),True),\n",
    "\n",
    "    StructField(\"Node\", StringType(),True),\n",
    "\n",
    "    StructField(\"date_and_time\", TimestampType(),True),\n",
    "\n",
    "    StructField(\"Node_Rep\", StringType(),True),\n",
    "\n",
    "    StructField(\"Message_Type\", StringType(),True),\n",
    "\n",
    "    StructField(\"SysComp\", StringType(),True),\n",
    "\n",
    "    StructField(\"Level\", StringType(),True),\n",
    "\n",
    "    StructField(\"Message_Content\", StringType(),True)\n",
    "\n",
    "])"
   ]
  },
  {
   "cell_type": "code",
   "execution_count": 4,
   "id": "0af6a36f",
   "metadata": {},
   "outputs": [],
   "source": [
    "# read the BGL log data from the CSV file with the specified schema (i.e. BGL_schema) \n",
    "# and date/timestamp formats are specified\n",
    "\n",
    "BGL_df=session.read.csv(\n",
    "    \"BGLnew.log\",\n",
    "    schema = BGL_schema,\n",
    "    dateFormat = \"yyyy.MM.dd\", \n",
    "    timestampFormat = \"yyyy-MM-dd-HH.mm.ss.SSSSSS\", \n",
    "    )"
   ]
  },
  {
   "cell_type": "code",
   "execution_count": 5,
   "id": "e6c72405",
   "metadata": {},
   "outputs": [],
   "source": [
    "# cast the Timestamp coloumn to proper TimestampType \n",
    "\n",
    "BGL_df = BGL_df.withColumn(\"Timestamp\", BGL_df[\"Timestamp\"].cast(TimestampType()))"
   ]
  },
  {
   "cell_type": "code",
   "execution_count": 6,
   "id": "585ec0c6",
   "metadata": {},
   "outputs": [
    {
     "name": "stdout",
     "output_type": "stream",
     "text": [
      "root\n",
      " |-- AlertFlag: string (nullable = true)\n",
      " |-- Timestamp: timestamp (nullable = true)\n",
      " |-- Date: string (nullable = true)\n",
      " |-- Node: string (nullable = true)\n",
      " |-- date_and_time: timestamp (nullable = true)\n",
      " |-- Node_Rep: string (nullable = true)\n",
      " |-- Message_Type: string (nullable = true)\n",
      " |-- SysComp: string (nullable = true)\n",
      " |-- Level: string (nullable = true)\n",
      " |-- Message_Content: string (nullable = true)\n",
      "\n"
     ]
    }
   ],
   "source": [
    "# print the schema to confirm the schema update of the Dataframe\n",
    "\n",
    "BGL_df.printSchema()"
   ]
  },
  {
   "cell_type": "markdown",
   "id": "a8274b4e",
   "metadata": {},
   "source": [
    "# Transformation on BGL dataframe"
   ]
  },
  {
   "cell_type": "markdown",
   "id": "2241822a",
   "metadata": {},
   "source": [
    "Here the data log is filtered using the PySpark functionality 'filter()' to filter the data from coloumn by specifying the content that need to be filtered out from the coloumn using 'contain()' functionality of PySpark"
   ]
  },
  {
   "cell_type": "code",
   "execution_count": 7,
   "id": "f76d90cf",
   "metadata": {},
   "outputs": [],
   "source": [
    "# filter the Dataframe to get fatal log entries that occurred in December\n",
    "\n",
    "fatal_logs_december = BGL_df.filter((col(\"Level\") == \"FATAL\") & (col(\"Date\").contains(\".12.\")))"
   ]
  },
  {
   "cell_type": "markdown",
   "id": "267122c0",
   "metadata": {},
   "source": [
    "Further filrteration is done using a specific message content \"invalid or missing program image\" to filter out the dataframe using the same functionality of PySpark"
   ]
  },
  {
   "cell_type": "code",
   "execution_count": 8,
   "id": "a36d712b",
   "metadata": {},
   "outputs": [],
   "source": [
    "# filter the DataFrame further to get fatal log entries with a specific message content i.e.\n",
    "# \"invalid or missing program image\"\n",
    "\n",
    "invalid_program_image_fatal_logs_december = fatal_logs_december.filter(col(\"Message_Content\").contains(\n",
    "    \"invalid or missing program image\"))"
   ]
  },
  {
   "cell_type": "code",
   "execution_count": 9,
   "id": "62b4bb31",
   "metadata": {},
   "outputs": [],
   "source": [
    "# filter the dataframe to remove rows where the \"Node\" column is either \"NULL\" or \"UNKNOWN_LOCATION\"\n",
    "filtered_df = invalid_program_image_fatal_logs_december.filter((col(\"Node\") != \"NULL\") & (col(\"Node\") != \"UNKNOWN_LOCATION\"))"
   ]
  },
  {
   "cell_type": "code",
   "execution_count": 10,
   "id": "1fd4f25c",
   "metadata": {},
   "outputs": [],
   "source": [
    "# group the dataframe by \"Node\" and count the occurrences of each node\n",
    "node_frequency = filtered_df.groupBy(\"Node\").count()"
   ]
  },
  {
   "cell_type": "code",
   "execution_count": 11,
   "id": "6ad4915c",
   "metadata": {},
   "outputs": [],
   "source": [
    "# order the nodes by the count of occurrences in descending order and get the top 20 nodes\n",
    "top_20_nodes = node_frequency.orderBy(col(\"count\").desc()).limit(20)"
   ]
  },
  {
   "cell_type": "code",
   "execution_count": 12,
   "id": "e545f915",
   "metadata": {},
   "outputs": [
    {
     "name": "stderr",
     "output_type": "stream",
     "text": [
      "                                                                                \r"
     ]
    }
   ],
   "source": [
    "# convert the result to a Pandas dataframe for plotting\n",
    "top_20_nodes_pandas = top_20_nodes.toPandas()"
   ]
  },
  {
   "cell_type": "markdown",
   "id": "15aac205",
   "metadata": {},
   "source": [
    "# Action on the filtered dataframe"
   ]
  },
  {
   "cell_type": "markdown",
   "id": "d72b481d",
   "metadata": {},
   "source": [
    "To get the number of fatal log entries in the month of December resulted from an ”invalid or missing program image”, 'count()' functionality of PySpark is used."
   ]
  },
  {
   "cell_type": "code",
   "execution_count": 13,
   "id": "3e35a5a4",
   "metadata": {},
   "outputs": [
    {
     "name": "stderr",
     "output_type": "stream",
     "text": [
      "                                                                                \r"
     ]
    }
   ],
   "source": [
    "# count the number of fatal log entries in December with an invalid or missing program image\n",
    "\n",
    "num_fatal_logs_invalid_image_december = invalid_program_image_fatal_logs_december.count()"
   ]
  },
  {
   "cell_type": "code",
   "execution_count": 14,
   "id": "f6bfff49",
   "metadata": {},
   "outputs": [
    {
     "name": "stdout",
     "output_type": "stream",
     "text": [
      "Number of fatal log entries in December with an invalid or missing program image: 18584\n"
     ]
    }
   ],
   "source": [
    "# print the result\n",
    "\n",
    "print(\"Number of fatal log entries in December with an invalid or missing program image:\", num_fatal_logs_invalid_image_december)"
   ]
  },
  {
   "cell_type": "markdown",
   "id": "e29a0de6",
   "metadata": {},
   "source": [
    "Running the above execution gives the result for \"number of fatal log entries in December with an invalid or missing program image\", upon which further analysis is done to show a visualized graph which represents the top 20 nodes that resulted in fatal log entries in December with an invalid or missing program image. This further analysis will help to find the perticular nodes with fatal error."
   ]
  },
  {
   "cell_type": "code",
   "execution_count": 15,
   "id": "5d1a3e94",
   "metadata": {},
   "outputs": [
    {
     "name": "stderr",
     "output_type": "stream",
     "text": [
      "[Stage 6:=================================================>         (5 + 1) / 6]\r"
     ]
    },
    {
     "name": "stdout",
     "output_type": "stream",
     "text": [
      "+-------------------+-----+\n",
      "|               Node|count|\n",
      "+-------------------+-----+\n",
      "|R31-M0-NC-I:J18-U01|   28|\n",
      "|R31-M0-N0-I:J18-U01|   28|\n",
      "|R31-M0-N0-I:J18-U11|   28|\n",
      "|R31-M0-N8-I:J18-U11|   28|\n",
      "|R31-M0-N8-I:J18-U01|   28|\n",
      "|R31-M0-N4-I:J18-U01|   28|\n",
      "|R31-M0-NC-I:J18-U11|   28|\n",
      "|R31-M0-N4-I:J18-U11|   28|\n",
      "|R25-M1-N4-I:J18-U11|   27|\n",
      "|R36-M0-NC-I:J18-U11|   27|\n",
      "|R13-M1-N0-I:J18-U11|   27|\n",
      "|R32-M1-N4-I:J18-U11|   27|\n",
      "|R05-M1-N4-I:J18-U11|   27|\n",
      "|R03-M1-N4-I:J18-U01|   27|\n",
      "|R37-M0-N0-I:J18-U11|   27|\n",
      "|R23-M0-N8-I:J18-U01|   27|\n",
      "|R20-M0-N0-I:J18-U01|   27|\n",
      "|R03-M0-N8-I:J18-U01|   27|\n",
      "|R13-M0-N4-I:J18-U01|   27|\n",
      "|R27-M0-NC-I:J18-U01|   27|\n",
      "+-------------------+-----+\n",
      "\n"
     ]
    },
    {
     "name": "stderr",
     "output_type": "stream",
     "text": [
      "\r",
      "                                                                                \r"
     ]
    }
   ],
   "source": [
    "# show the top 20 nodes in tabular format fatal log entries in December with an invalid or missing program image\n",
    "top_20_nodes.show()"
   ]
  },
  {
   "cell_type": "markdown",
   "id": "e945f28c",
   "metadata": {},
   "source": [
    "basic steps followed to visualize the further analysis on the nodes were reffered from https://sparkbyexamples.com/pandas/plot-the-dataframe-in-a-bar-in-pandas/"
   ]
  },
  {
   "cell_type": "code",
   "execution_count": 16,
   "id": "dc37ca05",
   "metadata": {},
   "outputs": [
    {
     "data": {
      "image/png": "[encoded data removed]",
      "text/plain": [
       "<Figure size 1000x600 with 1 Axes>"
      ]
     },
     "metadata": {},
     "output_type": "display_data"
    }
   ],
   "source": [
    "# plot the graph for the top 20 nodes that resulted in \n",
    "plt.figure(figsize=(10, 6))\n",
    "plt.bar(top_20_nodes_pandas[\"Node\"], top_20_nodes_pandas[\"count\"])\n",
    "plt.xlabel(\"Node\")\n",
    "plt.ylabel(\"Number of Fatal Log Entries\")\n",
    "plt.title(\"Top 20 Nodes with Highest Fatal Log Entries in December\")\n",
    "plt.xticks(rotation=45, ha=\"right\")\n",
    "plt.tight_layout()\n",
    "plt.show()"
   ]
  },
  {
   "cell_type": "markdown",
   "id": "8d819fbd",
   "metadata": {},
   "source": [
    "# Execution Time of the Program"
   ]
  },
  {
   "cell_type": "markdown",
   "id": "d4009c34",
   "metadata": {},
   "source": [
    "To calculate the execution time of a program, import the time module and utilize its functionality. Subtracting the program's start time from the end time will give us the execution time of the program."
   ]
  },
  {
   "cell_type": "code",
   "execution_count": 17,
   "id": "d9a487b9",
   "metadata": {},
   "outputs": [
    {
     "data": {
      "text/plain": [
       "11.56226396560669"
      ]
     },
     "execution_count": 17,
     "metadata": {},
     "output_type": "execute_result"
    }
   ],
   "source": [
    "# end time of the program\n",
    "end_program_time= time.time()\n",
    "\n",
    "# calculate executation time\n",
    "end_program_time-start_program_time"
   ]
  },
  {
   "cell_type": "code",
   "execution_count": 18,
   "id": "0f8e0358",
   "metadata": {},
   "outputs": [
    {
     "data": {
      "text/html": [
       "\n",
       "            <div>\n",
       "                <p><b>SparkSession - hive</b></p>\n",
       "                \n",
       "        <div>\n",
       "            <p><b>SparkContext</b></p>\n",
       "\n",
       "            <p><a href=\"http://192.168.64.4:4041\">Spark UI</a></p>\n",
       "\n",
       "            <dl>\n",
       "              <dt>Version</dt>\n",
       "                <dd><code>v3.4.0</code></dd>\n",
       "              <dt>Master</dt>\n",
       "                <dd><code>local[*]</code></dd>\n",
       "              <dt>AppName</dt>\n",
       "                <dd><code>PySparkShell</code></dd>\n",
       "            </dl>\n",
       "        </div>\n",
       "        \n",
       "            </div>\n",
       "        "
      ],
      "text/plain": [
       "<pyspark.sql.session.SparkSession at 0xffff8c557880>"
      ]
     },
     "execution_count": 18,
     "metadata": {},
     "output_type": "execute_result"
    }
   ],
   "source": [
    "spark"
   ]
  }
 ],
 "metadata": {
  "kernelspec": {
   "display_name": "Python 3 (ipykernel)",
   "language": "python",
   "name": "python3"
  },
  "language_info": {
   "codemirror_mode": {
    "name": "ipython",
    "version": 3
   },
   "file_extension": ".py",
   "mimetype": "text/x-python",
   "name": "python",
   "nbconvert_exporter": "python",
   "pygments_lexer": "ipython3",
   "version": "3.10.12"
  }
 },
 "nbformat": 4,
 "nbformat_minor": 5
}
