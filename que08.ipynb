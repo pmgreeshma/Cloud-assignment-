{
 "cells": [
  {
   "cell_type": "markdown",
   "id": "1f1c97a3",
   "metadata": {},
   "source": [
    "# Que 8. For each hour of the day, what is the average number of seconds during which” torus receiver z+ input pipe errors” were detected and corrected?"
   ]
  },
  {
   "cell_type": "markdown",
   "id": "533665c6",
   "metadata": {},
   "source": [
    "basic steps followed to answer the questions were reffered from\n",
    "https://spark.apache.org/docs/latest/api/python/getting_started/quickstart_df.html"
   ]
  },
  {
   "cell_type": "code",
   "execution_count": 1,
   "id": "c8bb19f9",
   "metadata": {},
   "outputs": [
    {
     "name": "stderr",
     "output_type": "stream",
     "text": [
      "23/08/05 23:02:09 WARN SparkSession: Using an existing Spark session; only runtime SQL configurations will take effect.\n"
     ]
    }
   ],
   "source": [
    "#importing necessary libraries and datatypes\n",
    "\n",
    "from pyspark.sql import SparkSession\n",
    "from pyspark.sql.types import StructType, StructField, StringType, DateType, TimestampType, IntegerType\n",
    "from pyspark.sql.functions import *\n",
    "import time\n",
    "\n",
    "#setting up a spark session\n",
    "\n",
    "session = SparkSession.builder.appName(\"BGLlog\").getOrCreate()"
   ]
  },
  {
   "cell_type": "code",
   "execution_count": 2,
   "id": "05a98b91",
   "metadata": {},
   "outputs": [],
   "source": [
    "# start time of the program\n",
    "start_program_time= time.time()"
   ]
  },
  {
   "cell_type": "markdown",
   "id": "031fac74",
   "metadata": {},
   "source": [
    "# Schema Design"
   ]
  },
  {
   "cell_type": "code",
   "execution_count": 3,
   "id": "9268216a",
   "metadata": {},
   "outputs": [],
   "source": [
    "# defined the schema for the BGL log data\n",
    "\n",
    "BGL_schema = StructType([\n",
    "\n",
    "    StructField(\"AlertFlag\", StringType(),True),\n",
    "    \n",
    "    # first Timestamp is assigned to IntegerType datatype and later to TimestampType datatype, \n",
    "    # as initializing Timestamp to \"TimestampType\" datatype in the beginning was not possible.\n",
    "    StructField(\"Timestamp\", IntegerType(),True), \n",
    "\n",
    "    StructField(\"Date\", StringType(),True),\n",
    "\n",
    "    StructField(\"Node\", StringType(),True),\n",
    "\n",
    "    StructField(\"date_and_time\", TimestampType(),True),\n",
    "\n",
    "    StructField(\"Node_Rep\", StringType(),True),\n",
    "\n",
    "    StructField(\"Message_Type\", StringType(),True),\n",
    "\n",
    "    StructField(\"SysComp\", StringType(),True),\n",
    "\n",
    "    StructField(\"Level\", StringType(),True),\n",
    "\n",
    "    StructField(\"Message_Content\", StringType(),True)\n",
    "\n",
    "])"
   ]
  },
  {
   "cell_type": "code",
   "execution_count": 4,
   "id": "7bde3443",
   "metadata": {},
   "outputs": [],
   "source": [
    "# read the BGL log data from the CSV file with the specified schema (i.e. BGL_schema) \n",
    "# and date/timestamp formats are specified\n",
    "\n",
    "BGL_df=session.read.csv(\n",
    "    \"BGLnew.log\",\n",
    "    schema = BGL_schema,\n",
    "    dateFormat = \"yyyy.MM.dd\", \n",
    "    timestampFormat = \"yyyy-MM-dd-HH.mm.ss.SSSSSS\", \n",
    "    )"
   ]
  },
  {
   "cell_type": "code",
   "execution_count": 5,
   "id": "60e7d02c",
   "metadata": {},
   "outputs": [],
   "source": [
    "# cast the Timestamp coloumn to proper TimestampType \n",
    "\n",
    "BGL_df = BGL_df.withColumn(\"Timestamp\", BGL_df[\"Timestamp\"].cast(TimestampType()))"
   ]
  },
  {
   "cell_type": "code",
   "execution_count": 6,
   "id": "49290f95",
   "metadata": {},
   "outputs": [
    {
     "name": "stdout",
     "output_type": "stream",
     "text": [
      "root\n",
      " |-- AlertFlag: string (nullable = true)\n",
      " |-- Timestamp: timestamp (nullable = true)\n",
      " |-- Date: string (nullable = true)\n",
      " |-- Node: string (nullable = true)\n",
      " |-- date_and_time: timestamp (nullable = true)\n",
      " |-- Node_Rep: string (nullable = true)\n",
      " |-- Message_Type: string (nullable = true)\n",
      " |-- SysComp: string (nullable = true)\n",
      " |-- Level: string (nullable = true)\n",
      " |-- Message_Content: string (nullable = true)\n",
      "\n"
     ]
    }
   ],
   "source": [
    "# print the schema to confirm the schema update of the Dataframe\n",
    "\n",
    "BGL_df.printSchema()"
   ]
  },
  {
   "cell_type": "markdown",
   "id": "a11dccd3",
   "metadata": {},
   "source": [
    "# Transformation on BGL dataframe"
   ]
  },
  {
   "cell_type": "code",
   "execution_count": 7,
   "id": "bf62eced",
   "metadata": {},
   "outputs": [],
   "source": [
    "# define the error message to be filtered\n",
    "\n",
    "error_message = \"torus receiver z+ input pipe error(s) (dcr 0x02f0) detected and corrected\""
   ]
  },
  {
   "cell_type": "code",
   "execution_count": 8,
   "id": "eaab0d2c",
   "metadata": {},
   "outputs": [],
   "source": [
    "# filter the BGL Dataframe to get rows containing the specified error message\n",
    "\n",
    "filtered_df = BGL_df.filter(col(\"Message_Content\").contains(error_message))"
   ]
  },
  {
   "cell_type": "code",
   "execution_count": 9,
   "id": "7ef82bf0",
   "metadata": {},
   "outputs": [],
   "source": [
    "# extract the duration in seconds from the \"Message_Content\" column using a regular expression\n",
    "\n",
    "seconds_regex = r\"over (\\d+) seconds\"\n",
    "filtered_df = filtered_df.withColumn(\"seconds_detected\", regexp_extract(\"Message_Content\", seconds_regex, 1).cast(\"int\"))"
   ]
  },
  {
   "cell_type": "code",
   "execution_count": 10,
   "id": "aea57679",
   "metadata": {},
   "outputs": [],
   "source": [
    "# create a new column \"duration_seconds\" to hold the extracted duration in seconds\n",
    "\n",
    "filtered_df = filtered_df.withColumn(\"duration_seconds\", col(\"seconds_detected\"))"
   ]
  },
  {
   "cell_type": "code",
   "execution_count": 11,
   "id": "9ae76f14",
   "metadata": {},
   "outputs": [],
   "source": [
    "# extract the \"hour_of_day\" from the \"date_and_time\" column and store it in a new column\n",
    "\n",
    "filtered_df = filtered_df.withColumn(\"hour_of_day\", hour(from_utc_timestamp(\"date_and_time\", \"UTC\")))"
   ]
  },
  {
   "cell_type": "markdown",
   "id": "5d05b6ef",
   "metadata": {},
   "source": [
    "# Action on the filtered dataframe"
   ]
  },
  {
   "cell_type": "code",
   "execution_count": 12,
   "id": "0b413fee",
   "metadata": {},
   "outputs": [],
   "source": [
    "# group the filtered Dataframe by \"hour_of_day\" and calculate the average of \"duration_seconds\" for each group\n",
    "\n",
    "result_df = filtered_df.groupBy(\"hour_of_day\").avg(\"duration_seconds\")"
   ]
  },
  {
   "cell_type": "code",
   "execution_count": 13,
   "id": "d94d78c8",
   "metadata": {},
   "outputs": [
    {
     "name": "stderr",
     "output_type": "stream",
     "text": [
      "[Stage 0:=================================================>         (5 + 1) / 6]\r"
     ]
    },
    {
     "name": "stdout",
     "output_type": "stream",
     "text": [
      "+-----------+---------------------+\n",
      "|hour_of_day|avg(duration_seconds)|\n",
      "+-----------+---------------------+\n",
      "|         22|    9795.538461538461|\n",
      "|          1|   13097.777777777777|\n",
      "|          6|             362.0375|\n",
      "|         20|              8286.25|\n",
      "|         19|             4791.625|\n",
      "|          8|            11041.875|\n",
      "|         23|             6198.375|\n",
      "|          7|    44635.21428571428|\n",
      "|         10|            20594.375|\n",
      "|         21|               4028.0|\n",
      "|         11|   13411.857142857143|\n",
      "|          0|   37279.666666666664|\n",
      "|         12|   12036.785714285714|\n",
      "|         13|    5202.933333333333|\n",
      "|         16|   28040.846153846152|\n",
      "|          3|              16011.9|\n",
      "|         15|   16769.222222222223|\n",
      "|         17|    8068.142857142857|\n",
      "|          9|   3211.3333333333335|\n",
      "|         14|   14729.368421052632|\n",
      "+-----------+---------------------+\n",
      "only showing top 20 rows\n",
      "\n"
     ]
    },
    {
     "name": "stderr",
     "output_type": "stream",
     "text": [
      "\r",
      "                                                                                \r"
     ]
    }
   ],
   "source": [
    "# show the resulting Dataframe\n",
    "\n",
    "result_df.show()"
   ]
  },
  {
   "cell_type": "markdown",
   "id": "4653cff6",
   "metadata": {},
   "source": [
    "# Execution Time of the Program"
   ]
  },
  {
   "cell_type": "code",
   "execution_count": 14,
   "id": "2d8ff401",
   "metadata": {},
   "outputs": [
    {
     "data": {
      "text/plain": [
       "6.864582777023315"
      ]
     },
     "execution_count": 14,
     "metadata": {},
     "output_type": "execute_result"
    }
   ],
   "source": [
    "# end time of the program\n",
    "end_program_time= time.time()\n",
    "\n",
    "# calculate executation time\n",
    "end_program_time-start_program_time"
   ]
  }
 ],
 "metadata": {
  "kernelspec": {
   "display_name": "Python 3 (ipykernel)",
   "language": "python",
   "name": "python3"
  },
  "language_info": {
   "codemirror_mode": {
    "name": "ipython",
    "version": 3
   },
   "file_extension": ".py",
   "mimetype": "text/x-python",
   "name": "python",
   "nbconvert_exporter": "python",
   "pygments_lexer": "ipython3",
   "version": "3.10.12"
  }
 },
 "nbformat": 4,
 "nbformat_minor": 5
}
