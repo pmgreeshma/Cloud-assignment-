{
 "cells": [
  {
   "cell_type": "markdown",
   "id": "fcf17e01",
   "metadata": {},
   "source": [
    "# Que 13. Which node generated the largest number APPSEV events?"
   ]
  },
  {
   "cell_type": "markdown",
   "id": "114ad07c",
   "metadata": {},
   "source": [
    "basic steps followed to answer the questions were reffered from\n",
    "https://spark.apache.org/docs/latest/api/python/getting_started/quickstart_df.html"
   ]
  },
  {
   "cell_type": "code",
   "execution_count": 1,
   "id": "15adc162",
   "metadata": {},
   "outputs": [
    {
     "name": "stderr",
     "output_type": "stream",
     "text": [
      "23/08/05 23:03:27 WARN SparkSession: Using an existing Spark session; only runtime SQL configurations will take effect.\n"
     ]
    }
   ],
   "source": [
    "#importing necessary libraries and datatypes\n",
    "\n",
    "from pyspark.sql import SparkSession\n",
    "from pyspark.sql.types import StructType, StructField, StringType, DateType, TimestampType, IntegerType\n",
    "from pyspark.sql.functions import *\n",
    "import time\n",
    "\n",
    "#setting up a spark session\n",
    "\n",
    "session = SparkSession.builder.appName(\"BGLlog\").getOrCreate()"
   ]
  },
  {
   "cell_type": "code",
   "execution_count": 2,
   "id": "16b97b51",
   "metadata": {},
   "outputs": [],
   "source": [
    "# start time of the program\n",
    "start_program_time= time.time()"
   ]
  },
  {
   "cell_type": "markdown",
   "id": "dbeaaf4a",
   "metadata": {},
   "source": [
    "# Schema Design"
   ]
  },
  {
   "cell_type": "code",
   "execution_count": 3,
   "id": "8c878bfe",
   "metadata": {},
   "outputs": [],
   "source": [
    "# defined the schema for the BGL log data\n",
    "\n",
    "BGL_schema = StructType([\n",
    "\n",
    "    StructField(\"AlertFlag\", StringType(),True),\n",
    "    \n",
    "    # first Timestamp is assigned to IntegerType datatype and later to TimestampType datatype, \n",
    "    # as initializing Timestamp to \"TimestampType\" datatype in the beginning was not possible\n",
    "    StructField(\"Timestamp\", IntegerType(),True), \n",
    "\n",
    "    StructField(\"Date\", StringType(),True),\n",
    "\n",
    "    StructField(\"Node\", StringType(),True),\n",
    "\n",
    "    StructField(\"date_and_time\", TimestampType(),True),\n",
    "\n",
    "    StructField(\"Node_Rep\", StringType(),True),\n",
    "\n",
    "    StructField(\"Message_Type\", StringType(),True),\n",
    "\n",
    "    StructField(\"SysComp\", StringType(),True),\n",
    "\n",
    "    StructField(\"Level\", StringType(),True),\n",
    "\n",
    "    StructField(\"Message_Content\", StringType(),True)\n",
    "\n",
    "])"
   ]
  },
  {
   "cell_type": "code",
   "execution_count": 4,
   "id": "943863f1",
   "metadata": {},
   "outputs": [],
   "source": [
    "# read the BGL log data from the CSV file with the specified schema (i.e. BGL_schema) \n",
    "# and date/timestamp formats are specified\n",
    "\n",
    "BGL_df=session.read.csv(\n",
    "    \"BGLnew.log\",\n",
    "    schema = BGL_schema,\n",
    "    dateFormat = \"yyyy.MM.dd\", \n",
    "    timestampFormat = \"yyyy-MM-dd-HH.mm.ss.SSSSSS\", \n",
    "    )"
   ]
  },
  {
   "cell_type": "code",
   "execution_count": 5,
   "id": "1e8198d3",
   "metadata": {},
   "outputs": [],
   "source": [
    "# cast the Timestamp coloumn to proper TimestampType \n",
    "\n",
    "BGL_df = BGL_df.withColumn(\"Timestamp\", BGL_df[\"Timestamp\"].cast(TimestampType()))"
   ]
  },
  {
   "cell_type": "code",
   "execution_count": 6,
   "id": "50d10305",
   "metadata": {},
   "outputs": [
    {
     "name": "stdout",
     "output_type": "stream",
     "text": [
      "root\n",
      " |-- AlertFlag: string (nullable = true)\n",
      " |-- Timestamp: timestamp (nullable = true)\n",
      " |-- Date: string (nullable = true)\n",
      " |-- Node: string (nullable = true)\n",
      " |-- date_and_time: timestamp (nullable = true)\n",
      " |-- Node_Rep: string (nullable = true)\n",
      " |-- Message_Type: string (nullable = true)\n",
      " |-- SysComp: string (nullable = true)\n",
      " |-- Level: string (nullable = true)\n",
      " |-- Message_Content: string (nullable = true)\n",
      "\n"
     ]
    }
   ],
   "source": [
    "# print the schema to confirm the schema update of the Dataframe\n",
    "\n",
    "BGL_df.printSchema()"
   ]
  },
  {
   "cell_type": "markdown",
   "id": "f1dfdeac",
   "metadata": {},
   "source": [
    "# Transformation on BGL dataframe"
   ]
  },
  {
   "cell_type": "code",
   "execution_count": 7,
   "id": "d2d4f549",
   "metadata": {},
   "outputs": [],
   "source": [
    "# filter the BGL dataframe to get rows where \"AlertFlag\" column is equal to \"APPSEV\"\n",
    "\n",
    "appsev_events = BGL_df.filter(col(\"AlertFlag\") == \"APPSEV\")"
   ]
  },
  {
   "cell_type": "markdown",
   "id": "fe8802ed",
   "metadata": {},
   "source": [
    "# Action on the filtered dataframe"
   ]
  },
  {
   "cell_type": "code",
   "execution_count": 8,
   "id": "2b5c5262",
   "metadata": {},
   "outputs": [],
   "source": [
    "# group the filtered dataframe by \"Node\" and count the occurrences of each node for \"APPSEV\" events\n",
    "\n",
    "node_frequency = appsev_events.groupBy(\"Node\").count()"
   ]
  },
  {
   "cell_type": "code",
   "execution_count": 9,
   "id": "adde8e24",
   "metadata": {},
   "outputs": [],
   "source": [
    "# order the nodes by the count of occurrences in descending order\n",
    "\n",
    "node_frequency = node_frequency.orderBy(col(\"count\").desc())"
   ]
  },
  {
   "cell_type": "code",
   "execution_count": 10,
   "id": "9b08793b",
   "metadata": {},
   "outputs": [],
   "source": [
    "# get the node with the largest count of \"APPSEV\" events (the top node)\n",
    "\n",
    "largest_appsev_node = node_frequency.limit(1)"
   ]
  },
  {
   "cell_type": "code",
   "execution_count": 11,
   "id": "2c5d2cb5",
   "metadata": {},
   "outputs": [
    {
     "name": "stderr",
     "output_type": "stream",
     "text": [
      "[Stage 0:=================================================>         (5 + 1) / 6]\r"
     ]
    },
    {
     "name": "stdout",
     "output_type": "stream",
     "text": [
      "+-------------------+-----+\n",
      "|               Node|count|\n",
      "+-------------------+-----+\n",
      "|R26-M0-N4-I:J18-U11|   67|\n",
      "+-------------------+-----+\n",
      "\n"
     ]
    },
    {
     "name": "stderr",
     "output_type": "stream",
     "text": [
      "\r",
      "                                                                                \r"
     ]
    }
   ],
   "source": [
    "# show the resulting dataframe containing the node with the largest count of \"APPSEV\" events\n",
    "\n",
    "largest_appsev_node.show()"
   ]
  },
  {
   "cell_type": "markdown",
   "id": "0bdc3dd7",
   "metadata": {},
   "source": [
    "# Execution Time of the Program"
   ]
  },
  {
   "cell_type": "code",
   "execution_count": 12,
   "id": "caa7af25",
   "metadata": {},
   "outputs": [
    {
     "data": {
      "text/plain": [
       "5.7586143016815186"
      ]
     },
     "execution_count": 12,
     "metadata": {},
     "output_type": "execute_result"
    }
   ],
   "source": [
    "# end time of the program\n",
    "end_program_time= time.time()\n",
    "\n",
    "# calculate executation time\n",
    "end_program_time-start_program_time"
   ]
  }
 ],
 "metadata": {
  "kernelspec": {
   "display_name": "Python 3 (ipykernel)",
   "language": "python",
   "name": "python3"
  },
  "language_info": {
   "codemirror_mode": {
    "name": "ipython",
    "version": 3
   },
   "file_extension": ".py",
   "mimetype": "text/x-python",
   "name": "python",
   "nbconvert_exporter": "python",
   "pygments_lexer": "ipython3",
   "version": "3.10.12"
  }
 },
 "nbformat": 4,
 "nbformat_minor": 5
}
