{
 "cells": [
  {
   "cell_type": "markdown",
   "id": "a507a670",
   "metadata": {},
   "source": [
    "# Que 3. How many fatal log entries that occurred on a Monday resulted from a” machine check interrupt”?"
   ]
  },
  {
   "cell_type": "markdown",
   "id": "2a285f38",
   "metadata": {},
   "source": [
    "basic steps followed to answer the questions were reffered from\n",
    "https://spark.apache.org/docs/latest/api/python/getting_started/quickstart_df.html"
   ]
  },
  {
   "cell_type": "code",
   "execution_count": 1,
   "id": "b23ebbc0",
   "metadata": {},
   "outputs": [
    {
     "name": "stderr",
     "output_type": "stream",
     "text": [
      "23/08/07 15:09:00 WARN SparkSession: Using an existing Spark session; only runtime SQL configurations will take effect.\n"
     ]
    }
   ],
   "source": [
    "#importing necessary libraries and datatypes\n",
    "\n",
    "from pyspark.sql import SparkSession\n",
    "from pyspark.sql.types import StructType, StructField, StringType, DateType, TimestampType, IntegerType\n",
    "from pyspark.sql.functions import *\n",
    "import time\n",
    "import matplotlib.pyplot as plt\n",
    "import pandas as pd\n",
    "\n",
    "#setting up a spark session\n",
    "\n",
    "session = SparkSession.builder.appName(\"BGLlog\").getOrCreate()"
   ]
  },
  {
   "cell_type": "code",
   "execution_count": 2,
   "id": "b60479ea",
   "metadata": {},
   "outputs": [],
   "source": [
    "# start time of the program\n",
    "start_program_time= time.time()"
   ]
  },
  {
   "cell_type": "markdown",
   "id": "d75bb9f3",
   "metadata": {},
   "source": [
    "# Schema Design"
   ]
  },
  {
   "cell_type": "code",
   "execution_count": 3,
   "id": "e29cb315",
   "metadata": {},
   "outputs": [],
   "source": [
    "# defined the schema for the BGL log data\n",
    "\n",
    "BGL_schema = StructType([\n",
    "\n",
    "    StructField(\"AlertFlag\", StringType(),True),\n",
    "    \n",
    "    # first Timestamp is assigned to IntegerType datatype and later to TimestampType datatype, \n",
    "    # as initializing Timestamp to \"TimestampType\" datatype in the beginning was not possible\n",
    "    StructField(\"Timestamp\", IntegerType(),True), \n",
    "\n",
    "    StructField(\"Date\", StringType(),True),\n",
    "\n",
    "    StructField(\"Node\", StringType(),True),\n",
    "\n",
    "    StructField(\"date_and_time\", TimestampType(),True),\n",
    "\n",
    "    StructField(\"Node_Rep\", StringType(),True),\n",
    "\n",
    "    StructField(\"Message_Type\", StringType(),True),\n",
    "\n",
    "    StructField(\"SysComp\", StringType(),True),\n",
    "\n",
    "    StructField(\"Level\", StringType(),True),\n",
    "\n",
    "    StructField(\"Message_Content\", StringType(),True)\n",
    "\n",
    "])"
   ]
  },
  {
   "cell_type": "code",
   "execution_count": 4,
   "id": "c043d2f1",
   "metadata": {},
   "outputs": [],
   "source": [
    "# read the BGL log data from the CSV file with the specified schema (i.e. BGL_schema) \n",
    "# and date/timestamp formats are specified\n",
    "\n",
    "BGL_df=session.read.csv(\n",
    "    \"BGLnew.log\",\n",
    "    schema = BGL_schema,\n",
    "    dateFormat = \"yyyy.MM.dd\", \n",
    "    timestampFormat = \"yyyy-MM-dd-HH.mm.ss.SSSSSS\", \n",
    "    )"
   ]
  },
  {
   "cell_type": "code",
   "execution_count": 5,
   "id": "90cbf7fa",
   "metadata": {},
   "outputs": [],
   "source": [
    "# cast the Timestamp coloumn to proper TimestampType \n",
    "\n",
    "BGL_df = BGL_df.withColumn(\"Timestamp\", BGL_df[\"Timestamp\"].cast(TimestampType()))"
   ]
  },
  {
   "cell_type": "code",
   "execution_count": 6,
   "id": "8c6e04b8",
   "metadata": {},
   "outputs": [
    {
     "name": "stdout",
     "output_type": "stream",
     "text": [
      "root\n",
      " |-- AlertFlag: string (nullable = true)\n",
      " |-- Timestamp: timestamp (nullable = true)\n",
      " |-- Date: string (nullable = true)\n",
      " |-- Node: string (nullable = true)\n",
      " |-- date_and_time: timestamp (nullable = true)\n",
      " |-- Node_Rep: string (nullable = true)\n",
      " |-- Message_Type: string (nullable = true)\n",
      " |-- SysComp: string (nullable = true)\n",
      " |-- Level: string (nullable = true)\n",
      " |-- Message_Content: string (nullable = true)\n",
      "\n"
     ]
    }
   ],
   "source": [
    "# print the schema to confirm the schema update of the Dataframe\n",
    "\n",
    "BGL_df.printSchema()"
   ]
  },
  {
   "cell_type": "markdown",
   "id": "58fc0da9",
   "metadata": {},
   "source": [
    "# Transformation on BGL dataframe"
   ]
  },
  {
   "cell_type": "code",
   "execution_count": 7,
   "id": "990f70f0",
   "metadata": {},
   "outputs": [],
   "source": [
    "# filter the BGL dataframe to get rows with FATAL log from coloumn Level, \n",
    "# Monday from coloumn date_and_time, and containing \"machine check interrupt\" in the coloumn Message_Content\n",
    "\n",
    "fatal_machine_check_entries = BGL_df.filter((col(\"Level\") == \"FATAL\") & \n",
    "                                        (dayofweek(col(\"date_and_time\")) == 2) &  # here Monday is represented as 2\n",
    "                                        (col(\"Message_Content\").contains(\"machine check interrupt\")))"
   ]
  },
  {
   "cell_type": "code",
   "execution_count": 8,
   "id": "6c493c79",
   "metadata": {},
   "outputs": [],
   "source": [
    "# filter the dataframe to remove rows where the \"Node\" column is either \"NULL\" or \"UNKNOWN_LOCATION\"\n",
    "filtered_df = fatal_machine_check_entries.filter((col(\"Node\") != \"NULL\") & (col(\"Node\") != \"UNKNOWN_LOCATION\"))"
   ]
  },
  {
   "cell_type": "markdown",
   "id": "bb2d75a1",
   "metadata": {},
   "source": [
    "# Action on the filtered dataframe"
   ]
  },
  {
   "cell_type": "code",
   "execution_count": 9,
   "id": "512c235f",
   "metadata": {},
   "outputs": [],
   "source": [
    "# group the dataframe by \"Node\" and count the occurrences of each node\n",
    "node_frequency = filtered_df.groupBy(\"Node\").count()"
   ]
  },
  {
   "cell_type": "code",
   "execution_count": 10,
   "id": "5fb7c6c3",
   "metadata": {},
   "outputs": [],
   "source": [
    "# order the nodes by the count of occurrences in descending order and get the top 5 nodes\n",
    "top_5_nodes = node_frequency.orderBy(col(\"count\").desc()).limit(5)"
   ]
  },
  {
   "cell_type": "code",
   "execution_count": 11,
   "id": "2b1c891a",
   "metadata": {},
   "outputs": [
    {
     "name": "stderr",
     "output_type": "stream",
     "text": [
      "                                                                                \r"
     ]
    }
   ],
   "source": [
    "# convert the result to a Pandas dataframe for plotting\n",
    "top_5_nodes_pandas = top_5_nodes.toPandas()"
   ]
  },
  {
   "cell_type": "code",
   "execution_count": 12,
   "id": "4f91fc09",
   "metadata": {},
   "outputs": [
    {
     "name": "stderr",
     "output_type": "stream",
     "text": [
      "                                                                                \r"
     ]
    }
   ],
   "source": [
    "# count the number of fatal log entries on Mondays resulting from a machine check interrupt\n",
    "\n",
    "num_fatal_machine_check_entries = fatal_machine_check_entries.count()"
   ]
  },
  {
   "cell_type": "code",
   "execution_count": 13,
   "id": "0e7a0129",
   "metadata": {},
   "outputs": [
    {
     "name": "stdout",
     "output_type": "stream",
     "text": [
      "Number of fatal log entries on Monday resulting from a machine check interrupt: 38\n"
     ]
    }
   ],
   "source": [
    "# print the result\n",
    "\n",
    "print(\"Number of fatal log entries on Monday resulting from a machine check interrupt:\", num_fatal_machine_check_entries)"
   ]
  },
  {
   "cell_type": "markdown",
   "id": "a1b1ee8a",
   "metadata": {},
   "source": [
    "basic steps followed to visualize the further analysis on the nodes were reffered from https://sparkbyexamples.com/pandas/plot-the-dataframe-in-a-bar-in-pandas/"
   ]
  },
  {
   "cell_type": "code",
   "execution_count": 14,
   "id": "f3c3befc",
   "metadata": {},
   "outputs": [
    {
     "data": {
      "image/png": "[encoded data removed]",
      "text/plain": [
       "<Figure size 1000x600 with 1 Axes>"
      ]
     },
     "metadata": {},
     "output_type": "display_data"
    }
   ],
   "source": [
    "# plot the graph for the top 20 nodes that resulted in \n",
    "plt.figure(figsize=(10, 6))\n",
    "plt.bar(top_5_nodes_pandas[\"Node\"], top_5_nodes_pandas[\"count\"])\n",
    "plt.xlabel(\"Node\")\n",
    "plt.ylabel(\"Number of Fatal Log Entries\")\n",
    "plt.title(\"Top 5 Nodes with Highest Fatal Log Entries on Monday resulting from a machine check interrupt\")\n",
    "plt.xticks(rotation=45, ha=\"right\")\n",
    "plt.tight_layout()\n",
    "plt.show()"
   ]
  },
  {
   "cell_type": "markdown",
   "id": "80c2277d",
   "metadata": {},
   "source": [
    "The above bar graph gives a visual analysis on the nodes, where R77-M1-N7-C:J10-U01 occured twice on Monday."
   ]
  },
  {
   "cell_type": "markdown",
   "id": "7e71ac63",
   "metadata": {},
   "source": [
    "# Execution Time of the Program"
   ]
  },
  {
   "cell_type": "code",
   "execution_count": 15,
   "id": "0b808cc7",
   "metadata": {},
   "outputs": [
    {
     "data": {
      "text/plain": [
       "10.055001258850098"
      ]
     },
     "execution_count": 15,
     "metadata": {},
     "output_type": "execute_result"
    }
   ],
   "source": [
    "# end time of the program\n",
    "end_program_time= time.time()\n",
    "\n",
    "# calculate executation time\n",
    "end_program_time-start_program_time"
   ]
  }
 ],
 "metadata": {
  "kernelspec": {
   "display_name": "Python 3 (ipykernel)",
   "language": "python",
   "name": "python3"
  },
  "language_info": {
   "codemirror_mode": {
    "name": "ipython",
    "version": 3
   },
   "file_extension": ".py",
   "mimetype": "text/x-python",
   "name": "python",
   "nbconvert_exporter": "python",
   "pygments_lexer": "ipython3",
   "version": "3.10.12"
  }
 },
 "nbformat": 4,
 "nbformat_minor": 5
}
