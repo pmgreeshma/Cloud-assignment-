{
 "cells": [
  {
   "cell_type": "markdown",
   "id": "49a31f44",
   "metadata": {},
   "source": [
    "# Que 11. What are the top 5 most frequently occurring nodes in the log?"
   ]
  },
  {
   "cell_type": "markdown",
   "id": "23774946",
   "metadata": {},
   "source": [
    "basic steps followed to answer the questions were reffered from\n",
    "https://spark.apache.org/docs/latest/api/python/getting_started/quickstart_df.html"
   ]
  },
  {
   "cell_type": "code",
   "execution_count": 1,
   "id": "b584f454",
   "metadata": {},
   "outputs": [
    {
     "name": "stderr",
     "output_type": "stream",
     "text": [
      "23/08/07 11:51:00 WARN SparkSession: Using an existing Spark session; only runtime SQL configurations will take effect.\n"
     ]
    }
   ],
   "source": [
    "#importing necessary libraries and datatypes\n",
    "\n",
    "from pyspark.sql import SparkSession\n",
    "from pyspark.sql.types import StructType, StructField, StringType, DateType, TimestampType, IntegerType\n",
    "from pyspark.sql.functions import *\n",
    "import time\n",
    "import matplotlib.pyplot as plt\n",
    "import pandas as pd\n",
    "\n",
    "#setting up a spark session\n",
    "\n",
    "session = SparkSession.builder.appName(\"BGLlog\").getOrCreate()"
   ]
  },
  {
   "cell_type": "code",
   "execution_count": 2,
   "id": "cb8728c4",
   "metadata": {},
   "outputs": [],
   "source": [
    "# start time of the program\n",
    "start_program_time= time.time()"
   ]
  },
  {
   "cell_type": "markdown",
   "id": "9adc4329",
   "metadata": {},
   "source": [
    "# Schema Design"
   ]
  },
  {
   "cell_type": "code",
   "execution_count": 3,
   "id": "1f53779b",
   "metadata": {},
   "outputs": [],
   "source": [
    "# defined the schema for the BGL log data\n",
    "\n",
    "BGL_schema = StructType([\n",
    "\n",
    "    StructField(\"AlertFlag\", StringType(),True),\n",
    "    \n",
    "    # first Timestamp is assigned to IntegerType datatype and later to TimestampType datatype, \n",
    "    # as initializing Timestamp to \"TimestampType\" datatype in the beginning was not possible.\n",
    "    StructField(\"Timestamp\", IntegerType(),True), \n",
    "\n",
    "    StructField(\"Date\", StringType(),True),\n",
    "\n",
    "    StructField(\"Node\", StringType(),True),\n",
    "\n",
    "    StructField(\"date_and_time\", TimestampType(),True),\n",
    "\n",
    "    StructField(\"Node_Rep\", StringType(),True),\n",
    "\n",
    "    StructField(\"Message_Type\", StringType(),True),\n",
    "\n",
    "    StructField(\"SysComp\", StringType(),True),\n",
    "\n",
    "    StructField(\"Level\", StringType(),True),\n",
    "\n",
    "    StructField(\"Message_Content\", StringType(),True)\n",
    "\n",
    "])"
   ]
  },
  {
   "cell_type": "code",
   "execution_count": 4,
   "id": "69d8a7c8",
   "metadata": {},
   "outputs": [],
   "source": [
    "# read the BGL log data from the CSV file with the specified schema (i.e. BGL_schema) \n",
    "# and date/timestamp formats are specified\n",
    "\n",
    "BGL_df=session.read.csv(\n",
    "    \"BGLnew.log\",\n",
    "    schema = BGL_schema,\n",
    "    dateFormat = \"yyyy.MM.dd\", \n",
    "    timestampFormat = \"yyyy-MM-dd-HH.mm.ss.SSSSSS\", \n",
    "    )"
   ]
  },
  {
   "cell_type": "code",
   "execution_count": 5,
   "id": "9ed924f8",
   "metadata": {},
   "outputs": [],
   "source": [
    "# cast the Timestamp coloumn to proper TimestampType \n",
    "\n",
    "BGL_df = BGL_df.withColumn(\"Timestamp\", BGL_df[\"Timestamp\"].cast(TimestampType()))"
   ]
  },
  {
   "cell_type": "code",
   "execution_count": 6,
   "id": "5cf40644",
   "metadata": {},
   "outputs": [
    {
     "name": "stdout",
     "output_type": "stream",
     "text": [
      "root\n",
      " |-- AlertFlag: string (nullable = true)\n",
      " |-- Timestamp: timestamp (nullable = true)\n",
      " |-- Date: string (nullable = true)\n",
      " |-- Node: string (nullable = true)\n",
      " |-- date_and_time: timestamp (nullable = true)\n",
      " |-- Node_Rep: string (nullable = true)\n",
      " |-- Message_Type: string (nullable = true)\n",
      " |-- SysComp: string (nullable = true)\n",
      " |-- Level: string (nullable = true)\n",
      " |-- Message_Content: string (nullable = true)\n",
      "\n"
     ]
    }
   ],
   "source": [
    "# print the schema to confirm the schema update of the Dataframe\n",
    "\n",
    "BGL_df.printSchema()"
   ]
  },
  {
   "cell_type": "markdown",
   "id": "adeaf914",
   "metadata": {},
   "source": [
    "# Transformation on BGL dataframe"
   ]
  },
  {
   "cell_type": "code",
   "execution_count": 7,
   "id": "58c41d1c",
   "metadata": {},
   "outputs": [],
   "source": [
    "# filter the BGL dataFrame to remove rows where the \"Node\" column is either \"NULL\" or \"UNKNOWN_LOCATION\"\n",
    "\n",
    "filtered_df = BGL_df.filter((col(\"Node\") != \"NULL\") & (col(\"Node\") != \"UNKNOWN_LOCATION\"))"
   ]
  },
  {
   "cell_type": "markdown",
   "id": "cc15becf",
   "metadata": {},
   "source": [
    "# Action on the filtered dataframe"
   ]
  },
  {
   "cell_type": "code",
   "execution_count": 8,
   "id": "b6c3819f",
   "metadata": {},
   "outputs": [],
   "source": [
    "# group the filtered dataframe by \"Node\" and count the occurrences of each node\n",
    "\n",
    "node_frequency = filtered_df.groupBy(\"Node\").count()"
   ]
  },
  {
   "cell_type": "code",
   "execution_count": 9,
   "id": "5b2f0a00",
   "metadata": {},
   "outputs": [],
   "source": [
    "# order the nodes by the count of occurrences in descending order\n",
    "\n",
    "node_frequency = node_frequency.orderBy(col(\"count\").desc())"
   ]
  },
  {
   "cell_type": "code",
   "execution_count": 10,
   "id": "25d451e1",
   "metadata": {},
   "outputs": [],
   "source": [
    "# get the top 5 nodes with the highest occurrences\n",
    "\n",
    "top_5_nodes = node_frequency.limit(5)"
   ]
  },
  {
   "cell_type": "code",
   "execution_count": 11,
   "id": "409a99d1",
   "metadata": {},
   "outputs": [
    {
     "name": "stderr",
     "output_type": "stream",
     "text": [
      "                                                                                \r"
     ]
    }
   ],
   "source": [
    "# convert the result to a Pandas dataframe for plotting\n",
    "top_5_nodes_pandas = top_5_nodes.toPandas()"
   ]
  },
  {
   "cell_type": "code",
   "execution_count": 12,
   "id": "bce1adf7",
   "metadata": {},
   "outputs": [
    {
     "name": "stderr",
     "output_type": "stream",
     "text": [
      "                                                                                \r"
     ]
    },
    {
     "name": "stdout",
     "output_type": "stream",
     "text": [
      "+-------------------+------+\n",
      "|               Node| count|\n",
      "+-------------------+------+\n",
      "|R30-M0-N9-C:J16-U01|152329|\n",
      "|R02-M1-N0-C:J12-U11| 64651|\n",
      "|R37-M1-NC-C:J02-U11| 35288|\n",
      "|R16-M1-N2-C:J17-U01| 16921|\n",
      "|R26-M0-N0-I:J18-U11| 14876|\n",
      "+-------------------+------+\n",
      "\n"
     ]
    }
   ],
   "source": [
    "# show the resulting dataframe containing the top 5 nodes\n",
    "\n",
    "top_5_nodes.show()"
   ]
  },
  {
   "cell_type": "markdown",
   "id": "fbbfced0",
   "metadata": {},
   "source": [
    "To get a visual representaion of the above result, convert the PySpark dataframe to Pandas dataframe for plotting a graph. To use the functionalities to plot a graph, import matplotlib.pyplot. To import the libaries of matplotlib, first run \"pip install matplotlib\" in the terminal. Basic steps followed to visualize the analysis on the nodes were reffered from https://sparkbyexamples.com/pandas/plot-the-dataframe-in-a-bar-in-pandas/"
   ]
  },
  {
   "cell_type": "code",
   "execution_count": 13,
   "id": "87bd0dd8",
   "metadata": {},
   "outputs": [
    {
     "data": {
      "image/png": "[encoded data removed]",
      "text/plain": [
       "<Figure size 1000x600 with 1 Axes>"
      ]
     },
     "metadata": {},
     "output_type": "display_data"
    }
   ],
   "source": [
    "# plot the graph for the top 20 nodes that resulted in \n",
    "plt.figure(figsize=(10, 6))\n",
    "plt.bar(top_5_nodes_pandas[\"Node\"], top_5_nodes_pandas[\"count\"])\n",
    "plt.xlabel(\"Node\")\n",
    "plt.ylabel(\"Number of occurrence in the log\")\n",
    "plt.title(\"Top 5 most frequently occurring nodes in the log\")\n",
    "plt.xticks(rotation=45, ha=\"right\")\n",
    "plt.tight_layout()\n",
    "plt.show()"
   ]
  },
  {
   "cell_type": "markdown",
   "id": "f40fedd4",
   "metadata": {},
   "source": [
    "# Execution Time of the Program"
   ]
  },
  {
   "cell_type": "code",
   "execution_count": 14,
   "id": "0ded21c8",
   "metadata": {},
   "outputs": [
    {
     "data": {
      "text/plain": [
       "6.093954801559448"
      ]
     },
     "execution_count": 14,
     "metadata": {},
     "output_type": "execute_result"
    }
   ],
   "source": [
    "# end time of the program\n",
    "end_program_time= time.time()\n",
    "\n",
    "# calculate executation time\n",
    "end_program_time-start_program_time"
   ]
  }
 ],
 "metadata": {
  "kernelspec": {
   "display_name": "Python 3 (ipykernel)",
   "language": "python",
   "name": "python3"
  },
  "language_info": {
   "codemirror_mode": {
    "name": "ipython",
    "version": 3
   },
   "file_extension": ".py",
   "mimetype": "text/x-python",
   "name": "python",
   "nbconvert_exporter": "python",
   "pygments_lexer": "ipython3",
   "version": "3.10.12"
  }
 },
 "nbformat": 4,
 "nbformat_minor": 5
}
