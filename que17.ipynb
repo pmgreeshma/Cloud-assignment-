{
 "cells": [
  {
   "cell_type": "markdown",
   "id": "3baf8ba0",
   "metadata": {},
   "source": [
    "# Que 17. On which date was the latest fatal kernel error resulting in an rts panic?"
   ]
  },
  {
   "cell_type": "markdown",
   "id": "b6294e43",
   "metadata": {},
   "source": [
    "basic steps followed to answer the questions were reffered from\n",
    "https://spark.apache.org/docs/latest/api/python/getting_started/quickstart_df.html"
   ]
  },
  {
   "cell_type": "code",
   "execution_count": 1,
   "id": "4b5ced1f",
   "metadata": {},
   "outputs": [
    {
     "name": "stderr",
     "output_type": "stream",
     "text": [
      "23/08/05 23:04:23 WARN SparkSession: Using an existing Spark session; only runtime SQL configurations will take effect.\n"
     ]
    }
   ],
   "source": [
    "#importing necessary libraries and datatypes\n",
    "\n",
    "from pyspark.sql import SparkSession\n",
    "from pyspark.sql.types import StructType, StructField, StringType, DateType, TimestampType, IntegerType\n",
    "from pyspark.sql.functions import *\n",
    "import time\n",
    "\n",
    "#setting up a spark session\n",
    "\n",
    "session = SparkSession.builder.appName(\"BGLlog\").getOrCreate()"
   ]
  },
  {
   "cell_type": "code",
   "execution_count": 2,
   "id": "1906a89b",
   "metadata": {},
   "outputs": [],
   "source": [
    "# start time of the program\n",
    "start_program_time= time.time()"
   ]
  },
  {
   "cell_type": "markdown",
   "id": "eb436062",
   "metadata": {},
   "source": [
    "# Schema Design"
   ]
  },
  {
   "cell_type": "code",
   "execution_count": 3,
   "id": "793b8371",
   "metadata": {},
   "outputs": [],
   "source": [
    "# defined the schema for the BGL log data\n",
    "\n",
    "BGL_schema = StructType([\n",
    "\n",
    "    StructField(\"AlertFlag\", StringType(),True),\n",
    "    \n",
    "    # first Timestamp is assigned to IntegerType datatype and later to TimestampType datatype, \n",
    "    # as initializing Timestamp to \"TimestampType\" datatype in the beginning was not possible\n",
    "    StructField(\"Timestamp\", IntegerType(),True), \n",
    "\n",
    "    StructField(\"Date\", StringType(),True),\n",
    "\n",
    "    StructField(\"Node\", StringType(),True),\n",
    "\n",
    "    StructField(\"date_and_time\", TimestampType(),True),\n",
    "\n",
    "    StructField(\"Node_Rep\", StringType(),True),\n",
    "\n",
    "    StructField(\"Message_Type\", StringType(),True),\n",
    "\n",
    "    StructField(\"SysComp\", StringType(),True),\n",
    "\n",
    "    StructField(\"Level\", StringType(),True),\n",
    "\n",
    "    StructField(\"Message_Content\", StringType(),True)\n",
    "\n",
    "])"
   ]
  },
  {
   "cell_type": "code",
   "execution_count": 4,
   "id": "59b63aa5",
   "metadata": {},
   "outputs": [],
   "source": [
    "# read the BGL log data from the CSV file with the specified schema (i.e. BGL_schema) \n",
    "# and date/timestamp formats are specified\n",
    "\n",
    "BGL_df=session.read.csv(\n",
    "    \"BGLnew.log\",\n",
    "    schema = BGL_schema,\n",
    "    dateFormat = \"yyyy.MM.dd\", \n",
    "    timestampFormat = \"yyyy-MM-dd-HH.mm.ss.SSSSSS\", \n",
    "    )"
   ]
  },
  {
   "cell_type": "code",
   "execution_count": 5,
   "id": "be7cafd1",
   "metadata": {},
   "outputs": [],
   "source": [
    "# cast the Timestamp coloumn to proper TimestampType \n",
    "\n",
    "BGL_df = BGL_df.withColumn(\"Timestamp\", BGL_df[\"Timestamp\"].cast(TimestampType()))"
   ]
  },
  {
   "cell_type": "code",
   "execution_count": 6,
   "id": "080b5b54",
   "metadata": {},
   "outputs": [
    {
     "name": "stdout",
     "output_type": "stream",
     "text": [
      "root\n",
      " |-- AlertFlag: string (nullable = true)\n",
      " |-- Timestamp: timestamp (nullable = true)\n",
      " |-- Date: string (nullable = true)\n",
      " |-- Node: string (nullable = true)\n",
      " |-- date_and_time: timestamp (nullable = true)\n",
      " |-- Node_Rep: string (nullable = true)\n",
      " |-- Message_Type: string (nullable = true)\n",
      " |-- SysComp: string (nullable = true)\n",
      " |-- Level: string (nullable = true)\n",
      " |-- Message_Content: string (nullable = true)\n",
      "\n"
     ]
    }
   ],
   "source": [
    "# print the schema to confirm the schema update of the Dataframe\n",
    "\n",
    "BGL_df.printSchema()"
   ]
  },
  {
   "cell_type": "markdown",
   "id": "591ba4a5",
   "metadata": {},
   "source": [
    "# Transformation on BGL dataframe"
   ]
  },
  {
   "cell_type": "code",
   "execution_count": 7,
   "id": "d7c0b790",
   "metadata": {},
   "outputs": [],
   "source": [
    "# filter the BGL dataframe to get rows with FATAL log from coloumn Level, \n",
    "# KERNEL from coloumn System Component, and containing \"rts panic\" in the coloumn Message Content\n",
    "\n",
    "rts_panic_errors = BGL_df.filter((col(\"Level\") == \"FATAL\") & \n",
    "                             (col(\"SysComp\").contains(\"KERNEL\")) & \n",
    "                             (col(\"Message_Content\").contains(\"rts panic\")))"
   ]
  },
  {
   "cell_type": "markdown",
   "id": "02c34e3d",
   "metadata": {},
   "source": [
    "# Action on the filtered dataframe"
   ]
  },
  {
   "cell_type": "code",
   "execution_count": 8,
   "id": "c429e2a8",
   "metadata": {},
   "outputs": [],
   "source": [
    "# select the \"Date\" column from the filtered DataFrame, sort it in descending order, and get the latest date (top row)\n",
    "\n",
    "latest_rts_panic_date = rts_panic_errors.select(\"Date\").orderBy(col(\"Date\").desc()).limit(1)"
   ]
  },
  {
   "cell_type": "code",
   "execution_count": 9,
   "id": "0edf6bbb",
   "metadata": {},
   "outputs": [
    {
     "name": "stderr",
     "output_type": "stream",
     "text": [
      "[Stage 0:=================================================>         (5 + 1) / 6]\r"
     ]
    },
    {
     "name": "stdout",
     "output_type": "stream",
     "text": [
      "+----------+\n",
      "|      Date|\n",
      "+----------+\n",
      "|2006.01.03|\n",
      "+----------+\n",
      "\n"
     ]
    },
    {
     "name": "stderr",
     "output_type": "stream",
     "text": [
      "\r",
      "                                                                                \r"
     ]
    }
   ],
   "source": [
    "# show the resulting DataFrame containing the latest date with \"rts panic\" errors\n",
    "\n",
    "latest_rts_panic_date.show()"
   ]
  },
  {
   "cell_type": "markdown",
   "id": "a0bd8666",
   "metadata": {},
   "source": [
    "# Execution Time of the Program"
   ]
  },
  {
   "cell_type": "code",
   "execution_count": 10,
   "id": "a68c74dc",
   "metadata": {},
   "outputs": [
    {
     "data": {
      "text/plain": [
       "5.566801309585571"
      ]
     },
     "execution_count": 10,
     "metadata": {},
     "output_type": "execute_result"
    }
   ],
   "source": [
    "# end time of the program\n",
    "end_program_time= time.time()\n",
    "\n",
    "# calculate executation time\n",
    "end_program_time-start_program_time"
   ]
  }
 ],
 "metadata": {
  "kernelspec": {
   "display_name": "Python 3 (ipykernel)",
   "language": "python",
   "name": "python3"
  },
  "language_info": {
   "codemirror_mode": {
    "name": "ipython",
    "version": 3
   },
   "file_extension": ".py",
   "mimetype": "text/x-python",
   "name": "python",
   "nbconvert_exporter": "python",
   "pygments_lexer": "ipython3",
   "version": "3.10.12"
  }
 },
 "nbformat": 4,
 "nbformat_minor": 5
}
